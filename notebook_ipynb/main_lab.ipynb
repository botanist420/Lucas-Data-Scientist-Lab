{
 "cells": [
  {
   "cell_type": "markdown",
   "metadata": {},
   "source": [
    "# CTHD August Sales Analysis\n",
    "\n",
    "## Preface\n",
    "\n",
    "## Data Cleaning\n",
    "\n",
    "## Data Exploratory\n",
    "\n",
    "## Visualization"
   ]
  },
  {
   "cell_type": "markdown",
   "metadata": {},
   "source": [
    "# Data Cleaning"
   ]
  },
  {
   "cell_type": "code",
   "execution_count": 1,
   "metadata": {},
   "outputs": [],
   "source": [
    "# Import the modules\n",
    "import pandas as pd\n",
    "import numpy as np"
   ]
  },
  {
   "cell_type": "code",
   "execution_count": 2,
   "metadata": {},
   "outputs": [],
   "source": [
    "# the main data we are gonna use\n",
    "# Original csv file that Ian provided: 臥虎藏龍 Crouch & Hide _ Tiger Dragon Bar月報.csv\n",
    "# renamed it to cthd_report_aug.csv\n",
    "\n",
    "file_path = \"/Users/lucaslee/Documents/GitHub/Lucas-Data-Scientist-Lab/data_cthd_Aug/cthd_report_aug.csv\"\n"
   ]
  },
  {
   "cell_type": "code",
   "execution_count": 3,
   "metadata": {},
   "outputs": [
    {
     "name": "stdout",
     "output_type": "stream",
     "text": [
      "Index(['銷售日期', '星期', '銷售總額', '折扣金額', '營業額', '稅額', '營業淨額', '客數', '周轉率', '人均價',\n",
      "       '交易數', '交易均價'],\n",
      "      dtype='object')\n"
     ]
    }
   ],
   "source": [
    "df_raw = pd.read_csv(file_path, skiprows=1)\n",
    "\n",
    "# print original columns:\n",
    "print(df_raw.columns)\n",
    "# result: ['銷售日期', '星期', '銷售總額', '折扣金額', '營業額', '稅額', '營業淨額', '客數', '周轉率', '人均價', '交易數', '交易均價']"
   ]
  },
  {
   "cell_type": "code",
   "execution_count": 4,
   "metadata": {},
   "outputs": [],
   "source": [
    "# Only select the rows with aug info in:\n",
    "df = df_raw.loc[df_raw['銷售日期'].str.contains('2022-08')]\n",
    "\n",
    "# Select columns that we are interested\n",
    "df = df[[\n",
    "    '銷售日期', '星期', '銷售總額', '折扣金額', '營業額', '客數', '人均價', '交易數', '交易均價'\n",
    "]]\n",
    "\n",
    "# Rename the column to English\n",
    "df.columns = [\n",
    "    'sales_date', 'weekday', 'sales_total', 'sales_discount', 'sales_result', 'guest_num', 'price_per_guest', 'orders_num', 'price_per_order'\n",
    "]"
   ]
  },
  {
   "cell_type": "code",
   "execution_count": 5,
   "metadata": {},
   "outputs": [],
   "source": [
    "df['sales_total'] = df['sales_total'].str.replace(\",\", \"\").astype(int)\n",
    "df['sales_discount'] = df['sales_discount'].str.replace(\",\", \"\").astype(int)\n",
    "df['sales_result'] = df['sales_result'].str.replace(\",\", \"\").astype(int)\n",
    "df['guest_num'] = df['guest_num'].str.replace(\",\", \"\").astype(int)\n",
    "df['price_per_guest'] = df['price_per_guest'].str.replace(\",\", \"\").astype(int)\n",
    "df['price_per_order'] = df['price_per_order'].str.replace(\",\", \"\").astype(int)"
   ]
  },
  {
   "cell_type": "code",
   "execution_count": 6,
   "metadata": {},
   "outputs": [],
   "source": [
    "# weekday transform: using np.select\n",
    "condlist = [\n",
    "    df['weekday'] == '一',\n",
    "    df['weekday'] == '二',\n",
    "    df['weekday'] == '三',\n",
    "    df['weekday'] == '四',\n",
    "    df['weekday'] == '五',\n",
    "    df['weekday'] == '六',\n",
    "    df['weekday'] == '日',\n",
    "]\n",
    "choicelist = [\n",
    "    'Mon',\n",
    "    'Tue',\n",
    "    'Wed',\n",
    "    'Thu',\n",
    "    'Fri',\n",
    "    'Sat',\n",
    "    'Sun'\n",
    "]\n",
    "\n",
    "df['weekday'] = np.select(condlist, choicelist, 'Unknown')\n"
   ]
  },
  {
   "cell_type": "code",
   "execution_count": 7,
   "metadata": {},
   "outputs": [],
   "source": [
    "# sales_date transform to datetime\n",
    "df['sales_date'] = pd.to_datetime(df.sales_date)"
   ]
  },
  {
   "cell_type": "code",
   "execution_count": 8,
   "metadata": {},
   "outputs": [
    {
     "data": {
      "text/html": [
       "<div>\n",
       "<style scoped>\n",
       "    .dataframe tbody tr th:only-of-type {\n",
       "        vertical-align: middle;\n",
       "    }\n",
       "\n",
       "    .dataframe tbody tr th {\n",
       "        vertical-align: top;\n",
       "    }\n",
       "\n",
       "    .dataframe thead th {\n",
       "        text-align: right;\n",
       "    }\n",
       "</style>\n",
       "<table border=\"1\" class=\"dataframe\">\n",
       "  <thead>\n",
       "    <tr style=\"text-align: right;\">\n",
       "      <th></th>\n",
       "      <th>guest_num</th>\n",
       "      <th>sales_discount</th>\n",
       "      <th>sales_result</th>\n",
       "    </tr>\n",
       "    <tr>\n",
       "      <th>weekend_label</th>\n",
       "      <th></th>\n",
       "      <th></th>\n",
       "      <th></th>\n",
       "    </tr>\n",
       "  </thead>\n",
       "  <tbody>\n",
       "    <tr>\n",
       "      <th>weekday</th>\n",
       "      <td>29.473684</td>\n",
       "      <td>434.894737</td>\n",
       "      <td>28873.736842</td>\n",
       "    </tr>\n",
       "    <tr>\n",
       "      <th>weekend</th>\n",
       "      <td>62.333333</td>\n",
       "      <td>929.916667</td>\n",
       "      <td>64353.250000</td>\n",
       "    </tr>\n",
       "  </tbody>\n",
       "</table>\n",
       "</div>"
      ],
      "text/plain": [
       "               guest_num  sales_discount  sales_result\n",
       "weekend_label                                         \n",
       "weekday        29.473684      434.894737  28873.736842\n",
       "weekend        62.333333      929.916667  64353.250000"
      ]
     },
     "execution_count": 8,
     "metadata": {},
     "output_type": "execute_result"
    }
   ],
   "source": [
    "# weekday vs weekend\n",
    "weekday_list = [\n",
    "    'Mon',\n",
    "    'Tue',\n",
    "    'Wed',\n",
    "    'Thu',\n",
    "]\n",
    "weekend_list = [\n",
    "    'Fri', 'Sat', 'Sun'\n",
    "]\n",
    "\n",
    "# Using np.select()\n",
    "condlist = [df['weekday'].isin(weekday_list), df['weekday'].isin(weekend_list)]\n",
    "choicelist = ['weekday', 'weekend']\n",
    "df['weekend_label'] = np.select(condlist, choicelist, 'Unknown')\n",
    "\n",
    "\n",
    "df.pivot_table(index=['weekend_label'],\n",
    "               values=['sales_result', 'sales_discount', 'guest_num'],\n",
    "               aggfunc='mean')"
   ]
  },
  {
   "cell_type": "code",
   "execution_count": 10,
   "metadata": {},
   "outputs": [],
   "source": [
    "df.to_csv('cthd_report_aug_transform.csv', index=False)"
   ]
  }
 ],
 "metadata": {
  "kernelspec": {
   "display_name": "Python 3.8.9 64-bit",
   "language": "python",
   "name": "python3"
  },
  "language_info": {
   "codemirror_mode": {
    "name": "ipython",
    "version": 3
   },
   "file_extension": ".py",
   "mimetype": "text/x-python",
   "name": "python",
   "nbconvert_exporter": "python",
   "pygments_lexer": "ipython3",
   "version": "3.8.9"
  },
  "orig_nbformat": 4,
  "vscode": {
   "interpreter": {
    "hash": "31f2aee4e71d21fbe5cf8b01ff0e069b9275f58929596ceb00d14d90e3e16cd6"
   }
  }
 },
 "nbformat": 4,
 "nbformat_minor": 2
}
