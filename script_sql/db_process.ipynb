{
 "cells": [
  {
   "cell_type": "code",
   "execution_count": 35,
   "metadata": {},
   "outputs": [],
   "source": [
    "# Goal: use the csv file: 點餐明細 (1).csv to import into my local postgresql db: cthd\n",
    "import pandas as pd\n",
    "import numpy as np"
   ]
  },
  {
   "cell_type": "code",
   "execution_count": 36,
   "metadata": {},
   "outputs": [
    {
     "name": "stdout",
     "output_type": "stream",
     "text": [
      "Index(['交易序號', '發票編號', '類別名稱', '商品名稱', '數量', '點單金額', '客數', '商品單位'], dtype='object')\n",
      "交易序號    object\n",
      "發票編號    object\n",
      "類別名稱    object\n",
      "商品名稱    object\n",
      "數量       int64\n",
      "點單金額     int64\n",
      "客數       int64\n",
      "商品單位    object\n",
      "dtype: object\n"
     ]
    }
   ],
   "source": [
    "file_path = '/Users/lucaslee/Documents/GitHub/Lucas-Data-Scientist-Lab/data_cthd_Aug/點餐明細 (1).csv'\n",
    "df_raw = pd.read_csv(file_path)\n",
    "# print(df_raw.head()\n",
    "\n",
    "# print the column names\n",
    "print(df_raw.columns)\n",
    "\n",
    "# print the dtypes\n",
    "print(df_raw.dtypes)"
   ]
  },
  {
   "cell_type": "code",
   "execution_count": 37,
   "metadata": {},
   "outputs": [],
   "source": [
    "# drop the columns that we don't want:\n",
    "df_column_clean = df_raw.drop(['發票編號', '商品單位', '客數'], axis=1)\n",
    "\n",
    "# rename the columns\n",
    "df_column_clean.columns = ['sales_date', 'product_type', 'product_name', 'quantity', 'price']\n",
    "df_clean = df_column_clean"
   ]
  },
  {
   "cell_type": "code",
   "execution_count": 38,
   "metadata": {},
   "outputs": [],
   "source": [
    "# data type transformation\n",
    "\n",
    "df_clean['sales_date'] = pd.to_datetime(df_clean['sales_date'].apply(lambda x: x[:13]), format='%Y%m%d %H%M')"
   ]
  },
  {
   "cell_type": "code",
   "execution_count": 39,
   "metadata": {},
   "outputs": [],
   "source": [
    "df_clean.sort_values(by=['sales_date', 'product_type']).to_csv('cthd_order_detail_aug.csv', index=False)"
   ]
  }
 ],
 "metadata": {
  "kernelspec": {
   "display_name": "Python 3.8.9 64-bit",
   "language": "python",
   "name": "python3"
  },
  "language_info": {
   "codemirror_mode": {
    "name": "ipython",
    "version": 3
   },
   "file_extension": ".py",
   "mimetype": "text/x-python",
   "name": "python",
   "nbconvert_exporter": "python",
   "pygments_lexer": "ipython3",
   "version": "3.8.9"
  },
  "orig_nbformat": 4,
  "vscode": {
   "interpreter": {
    "hash": "31f2aee4e71d21fbe5cf8b01ff0e069b9275f58929596ceb00d14d90e3e16cd6"
   }
  }
 },
 "nbformat": 4,
 "nbformat_minor": 2
}
